{
 "cells": [
  {
   "cell_type": "code",
   "execution_count": 2,
   "metadata": {
    "collapsed": false
   },
   "outputs": [
    {
     "data": {
      "text/plain": [
       "(-4, -3)"
      ]
     },
     "execution_count": 2,
     "metadata": {
     },
     "output_type": "execute_result"
    }
   ],
   "source": [
    "\n",
    "numero = -3.56\n",
    "\n",
    "# Calcula el floor y el ceiling\n",
    "suelo = floor(numero)\n",
    "techo = ceil(numero)\n",
    "\n",
    "# Muestra los resultados\n",
    "suelo, techo\n",
    "\n"
   ]
  },
  {
   "cell_type": "code",
   "execution_count": 3,
   "metadata": {
    "collapsed": false
   },
   "outputs": [
    {
     "data": {
      "text/plain": [
       "(2*log(10), 2, log(10))"
      ]
     },
     "execution_count": 3,
     "metadata": {
     },
     "output_type": "execute_result"
    }
   ],
   "source": [
    "\n",
    "numero = 100\n",
    "\n",
    "# Calcula el logaritmo en base e\n",
    "log_e = log(numero)\n",
    "\n",
    "# Calcula el logaritmo en base 10\n",
    "log_10 = log(numero, base=10)\n",
    "\n",
    "# Calcula el cociente de los logaritmos\n",
    "cociente_log = log_e / log_10\n",
    "\n",
    "# Muestra los resultados\n",
    "log_e, log_10, cociente_log\n"
   ]
  },
  {
   "cell_type": "code",
   "execution_count": 4,
   "metadata": {
    "collapsed": false
   },
   "outputs": [
    {
     "data": {
      "text/plain": [
       "6"
      ]
     },
     "execution_count": 4,
     "metadata": {
     },
     "output_type": "execute_result"
    }
   ],
   "source": [
    "\n",
    "numero = 64\n",
    "\n",
    "# Calcula el logaritmo en base 2\n",
    "log_base_2 = log(numero, base=2)\n",
    "\n",
    "# Muestra el resultado\n",
    "log_base_2\n"
   ]
  },
  {
   "cell_type": "code",
   "execution_count": 23,
   "metadata": {
    "collapsed": false
   },
   "outputs": [
    {
     "data": {
      "text/plain": [
       "(-1, -1.00000000000000 + 1.22464679914735e-16*I)"
      ]
     },
     "execution_count": 23,
     "metadata": {
     },
     "output_type": "execute_result"
    }
   ],
   "source": [
    "# Calcula la expresión e^(i*pi)\n",
    "expresion = exp(I * pi)\n",
    "\n",
    "# Aproximación numérica de pi\n",
    "pi_aprox = pi.n()\n",
    "\n",
    "# Calcula la expresión utilizando la aproximación numérica de pi\n",
    "expresion_aprox = exp(I * pi_aprox)\n",
    "\n",
    "# Muestra los resultados\n",
    "expresion, expresion_aprox"
   ]
  },
  {
   "cell_type": "code",
   "execution_count": 0,
   "metadata": {
    "collapsed": false
   },
   "outputs": [
   ],
   "source": [
   ]
  }
 ],
 "metadata": {
  "kernelspec": {
   "argv": [
    "sage-10.2",
    "--python",
    "-m",
    "sage.repl.ipython_kernel",
    "--matplotlib=inline",
    "-f",
    "{connection_file}"
   ],
   "display_name": "SageMath 10.2",
   "env": {
   },
   "language": "sagemath",
   "metadata": {
    "cocalc": {
     "description": "Open-source mathematical software system",
     "priority": 2,
     "url": "https://www.sagemath.org/"
    }
   },
   "name": "sage-10.2",
   "resource_dir": "/ext/jupyter/kernels/sage-10.2"
  },
  "language_info": {
   "codemirror_mode": {
    "name": "ipython",
    "version": 3
   },
   "file_extension": ".py",
   "mimetype": "text/x-python",
   "name": "python",
   "nbconvert_exporter": "python",
   "pygments_lexer": "ipython3",
   "version": "3.11.1"
  }
 },
 "nbformat": 4,
 "nbformat_minor": 4
}